{
  "nbformat": 4,
  "nbformat_minor": 0,
  "metadata": {
    "colab": {
      "name": "Final models Indo.ipynb",
      "provenance": [],
      "collapsed_sections": []
    },
    "kernelspec": {
      "name": "python3",
      "display_name": "Python 3"
    },
    "language_info": {
      "name": "python"
    },
    "accelerator": "TPU"
  },
  "cells": [
    {
      "cell_type": "code",
      "metadata": {
        "id": "kcuNziJAzeKr",
        "colab": {
          "base_uri": "https://localhost:8080/"
        },
        "outputId": "7da06fe3-22bc-48b8-c6b7-07f03644f2be"
      },
      "source": [
        "import io\n",
        "from google.colab import drive\n",
        "# uploaded = files.upload()\n",
        "\n",
        "# df = pd.read_csv(io.BytesIO(uploaded['ShareChat-IndoML-Datathon-NSFW-CommentChallenge_Train.csv'])) \n",
        "\n",
        "drive.mount('/content/drive')"
      ],
      "execution_count": null,
      "outputs": [
        {
          "output_type": "stream",
          "name": "stdout",
          "text": [
            "Mounted at /content/drive\n"
          ]
        }
      ]
    },
    {
      "cell_type": "markdown",
      "metadata": {
        "id": "5cNFvi8KqZjR"
      },
      "source": [
        "\n",
        "\n",
        "---\n",
        "\n"
      ]
    },
    {
      "cell_type": "code",
      "metadata": {
        "id": "BbqkkBNcz_4f"
      },
      "source": [
        "import pandas as pd"
      ],
      "execution_count": null,
      "outputs": []
    },
    {
      "cell_type": "code",
      "metadata": {
        "id": "UOTNTX6_zuEK"
      },
      "source": [
        "df=pd.read_csv('/content/drive/MyDrive/readytomodel1.csv')"
      ],
      "execution_count": null,
      "outputs": []
    },
    {
      "cell_type": "code",
      "metadata": {
        "colab": {
          "base_uri": "https://localhost:8080/",
          "height": 513
        },
        "id": "JHYjxHjGQUg1",
        "outputId": "a0c9e131-7954-44d9-88df-bce6a13bc446"
      },
      "source": [
        "df"
      ],
      "execution_count": null,
      "outputs": [
        {
          "output_type": "execute_result",
          "data": {
            "text/html": [
              "<div>\n",
              "<style scoped>\n",
              "    .dataframe tbody tr th:only-of-type {\n",
              "        vertical-align: middle;\n",
              "    }\n",
              "\n",
              "    .dataframe tbody tr th {\n",
              "        vertical-align: top;\n",
              "    }\n",
              "\n",
              "    .dataframe thead th {\n",
              "        text-align: right;\n",
              "    }\n",
              "</style>\n",
              "<table border=\"1\" class=\"dataframe\">\n",
              "  <thead>\n",
              "    <tr style=\"text-align: right;\">\n",
              "      <th></th>\n",
              "      <th>Unnamed: 0</th>\n",
              "      <th>Unnamed: 0.1</th>\n",
              "      <th>CommentId</th>\n",
              "      <th>commentText</th>\n",
              "      <th>language</th>\n",
              "      <th>user_index</th>\n",
              "      <th>post_index</th>\n",
              "      <th>report_count_comment</th>\n",
              "      <th>report_count_post</th>\n",
              "      <th>like_count_comment</th>\n",
              "      <th>like_count_post</th>\n",
              "      <th>label</th>\n",
              "      <th>commenttranslated</th>\n",
              "      <th>commenttokenize</th>\n",
              "      <th>preprocessed</th>\n",
              "      <th>tokenized</th>\n",
              "      <th>preprocessed2</th>\n",
              "    </tr>\n",
              "  </thead>\n",
              "  <tbody>\n",
              "    <tr>\n",
              "      <th>0</th>\n",
              "      <td>0</td>\n",
              "      <td>1</td>\n",
              "      <td>2</td>\n",
              "      <td>apni pant utar kar apni chut bhi to bata do ma...</td>\n",
              "      <td>Urdu</td>\n",
              "      <td>1205.0</td>\n",
              "      <td>17327.0</td>\n",
              "      <td>0.0</td>\n",
              "      <td>1.0</td>\n",
              "      <td>0.0</td>\n",
              "      <td>731.0</td>\n",
              "      <td>1.0</td>\n",
              "      <td>Take pants tell pussy fair madam</td>\n",
              "      <td>['Take', 'pants', 'tell', 'pussy', 'fair', 'ma...</td>\n",
              "      <td>take pant tell pussi fair madam</td>\n",
              "      <td>['take', 'pant', 'tell', 'pussi', 'fair', 'mad...</td>\n",
              "      <td>take pant tell pussi fair madam</td>\n",
              "    </tr>\n",
              "    <tr>\n",
              "      <th>1</th>\n",
              "      <td>1</td>\n",
              "      <td>2</td>\n",
              "      <td>3</td>\n",
              "      <td>krishnatripathi4578 jesi ghar ki sabhyata vais...</td>\n",
              "      <td>Rajasthani</td>\n",
              "      <td>889.0</td>\n",
              "      <td>352919.0</td>\n",
              "      <td>0.0</td>\n",
              "      <td>1.0</td>\n",
              "      <td>1.0</td>\n",
              "      <td>285.0</td>\n",
              "      <td>0.0</td>\n",
              "      <td>Culture house like Krishnatripathi</td>\n",
              "      <td>['Culture', 'house', 'like', 'Krishnatripathi']</td>\n",
              "      <td>cultur hous like krishnatripathi</td>\n",
              "      <td>['cultur', 'hous', 'like', 'krishnatripathi']</td>\n",
              "      <td>cultur hous like krishnatripathi</td>\n",
              "    </tr>\n",
              "    <tr>\n",
              "      <th>2</th>\n",
              "      <td>2</td>\n",
              "      <td>3</td>\n",
              "      <td>4</td>\n",
              "      <td>is randi ko dusra kaam nahi hai kuttiya kahin ki</td>\n",
              "      <td>Urdu</td>\n",
              "      <td>372.0</td>\n",
              "      <td>261223.0</td>\n",
              "      <td>0.0</td>\n",
              "      <td>0.0</td>\n",
              "      <td>0.0</td>\n",
              "      <td>453.0</td>\n",
              "      <td>1.0</td>\n",
              "      <td>This scoundrel work kutiya</td>\n",
              "      <td>['This', 'scoundrel', 'work', 'kutiya']</td>\n",
              "      <td>thi scoundrel work kutiya</td>\n",
              "      <td>['thi', 'scoundrel', 'work', 'kutiya']</td>\n",
              "      <td>thi scoundrel work kutiya</td>\n",
              "    </tr>\n",
              "    <tr>\n",
              "      <th>3</th>\n",
              "      <td>3</td>\n",
              "      <td>5</td>\n",
              "      <td>6</td>\n",
              "      <td>good night di very nice 👌👌👌👌</td>\n",
              "      <td>Assamese</td>\n",
              "      <td>2080.0</td>\n",
              "      <td>546475.0</td>\n",
              "      <td>0.0</td>\n",
              "      <td>0.0</td>\n",
              "      <td>1.0</td>\n",
              "      <td>229.0</td>\n",
              "      <td>0.0</td>\n",
              "      <td>good night di nice</td>\n",
              "      <td>['good', 'night', 'di', 'nice']</td>\n",
              "      <td>good night di nice</td>\n",
              "      <td>['good', 'night', 'di', 'nice']</td>\n",
              "      <td>good night di nice</td>\n",
              "    </tr>\n",
              "    <tr>\n",
              "      <th>4</th>\n",
              "      <td>4</td>\n",
              "      <td>8</td>\n",
              "      <td>9</td>\n",
              "      <td>chinaal raand</td>\n",
              "      <td>Urdu</td>\n",
              "      <td>2051.0</td>\n",
              "      <td>597836.0</td>\n",
              "      <td>0.0</td>\n",
              "      <td>0.0</td>\n",
              "      <td>0.0</td>\n",
              "      <td>262.0</td>\n",
              "      <td>1.0</td>\n",
              "      <td>chinal rand</td>\n",
              "      <td>['chinal', 'rand']</td>\n",
              "      <td>chinal rand</td>\n",
              "      <td>['chinal', 'rand']</td>\n",
              "      <td>chinal rand</td>\n",
              "    </tr>\n",
              "    <tr>\n",
              "      <th>...</th>\n",
              "      <td>...</td>\n",
              "      <td>...</td>\n",
              "      <td>...</td>\n",
              "      <td>...</td>\n",
              "      <td>...</td>\n",
              "      <td>...</td>\n",
              "      <td>...</td>\n",
              "      <td>...</td>\n",
              "      <td>...</td>\n",
              "      <td>...</td>\n",
              "      <td>...</td>\n",
              "      <td>...</td>\n",
              "      <td>...</td>\n",
              "      <td>...</td>\n",
              "      <td>...</td>\n",
              "      <td>...</td>\n",
              "      <td>...</td>\n",
              "    </tr>\n",
              "    <tr>\n",
              "      <th>735930</th>\n",
              "      <td>735930</td>\n",
              "      <td>936651</td>\n",
              "      <td>1350063</td>\n",
              "      <td>bala na pura ଧାବେଡି</td>\n",
              "      <td>Odia</td>\n",
              "      <td>14771.0</td>\n",
              "      <td>264305.0</td>\n",
              "      <td>0.0</td>\n",
              "      <td>0.0</td>\n",
              "      <td>0.0</td>\n",
              "      <td>14.0</td>\n",
              "      <td>1.0</td>\n",
              "      <td>bala na pura</td>\n",
              "      <td>['bala', 'na', 'pura']</td>\n",
              "      <td>bala na pura</td>\n",
              "      <td>['bala', 'na', 'pura']</td>\n",
              "      <td>bala pura</td>\n",
              "    </tr>\n",
              "    <tr>\n",
              "      <th>735931</th>\n",
              "      <td>735931</td>\n",
              "      <td>936652</td>\n",
              "      <td>1350064</td>\n",
              "      <td>ilove you 💗❤️♥️💘💕💗❤️❤️♥️💚 💘💘💘💘💘💘💘💘💘💘🌹🌹🌹🌹🌹💞💞💞💞💞💞💞</td>\n",
              "      <td>Odia</td>\n",
              "      <td>28689.0</td>\n",
              "      <td>357848.0</td>\n",
              "      <td>0.0</td>\n",
              "      <td>0.0</td>\n",
              "      <td>0.0</td>\n",
              "      <td>14.0</td>\n",
              "      <td>0.0</td>\n",
              "      <td>ilove</td>\n",
              "      <td>['ilove']</td>\n",
              "      <td>ilov</td>\n",
              "      <td>['ilov']</td>\n",
              "      <td>ilov</td>\n",
              "    </tr>\n",
              "    <tr>\n",
              "      <th>735932</th>\n",
              "      <td>735932</td>\n",
              "      <td>936653</td>\n",
              "      <td>1350065</td>\n",
              "      <td>abisek</td>\n",
              "      <td>Odia</td>\n",
              "      <td>19607.0</td>\n",
              "      <td>934737.0</td>\n",
              "      <td>0.0</td>\n",
              "      <td>4.0</td>\n",
              "      <td>0.0</td>\n",
              "      <td>14.0</td>\n",
              "      <td>0.0</td>\n",
              "      <td>abisek</td>\n",
              "      <td>['abisek']</td>\n",
              "      <td>abisek</td>\n",
              "      <td>['abisek']</td>\n",
              "      <td>abisek</td>\n",
              "    </tr>\n",
              "    <tr>\n",
              "      <th>735933</th>\n",
              "      <td>735933</td>\n",
              "      <td>936654</td>\n",
              "      <td>1350066</td>\n",
              "      <td>nyc..vedeo..nd..esara..lovely..smile..so..⚘swe...</td>\n",
              "      <td>Odia</td>\n",
              "      <td>13717.0</td>\n",
              "      <td>850336.0</td>\n",
              "      <td>0.0</td>\n",
              "      <td>0.0</td>\n",
              "      <td>0.0</td>\n",
              "      <td>14.0</td>\n",
              "      <td>0.0</td>\n",
              "      <td>nycvedeondesaralovelysmilesosweetallook</td>\n",
              "      <td>['nycvedeondesaralovelysmilesosweetallook']</td>\n",
              "      <td>nycvedeondesaralovelysmilesosweetallook</td>\n",
              "      <td>['nycvedeondesaralovelysmilesosweetallook']</td>\n",
              "      <td>nycvedeondesaralovelysmilesosweetallook</td>\n",
              "    </tr>\n",
              "    <tr>\n",
              "      <th>735934</th>\n",
              "      <td>735934</td>\n",
              "      <td>936656</td>\n",
              "      <td>1350068</td>\n",
              "      <td>nice video i like it</td>\n",
              "      <td>Odia</td>\n",
              "      <td>18815.0</td>\n",
              "      <td>357848.0</td>\n",
              "      <td>0.0</td>\n",
              "      <td>0.0</td>\n",
              "      <td>0.0</td>\n",
              "      <td>14.0</td>\n",
              "      <td>0.0</td>\n",
              "      <td>nice video like</td>\n",
              "      <td>['nice', 'video', 'like']</td>\n",
              "      <td>nice video like</td>\n",
              "      <td>['nice', 'video', 'like']</td>\n",
              "      <td>nice video like</td>\n",
              "    </tr>\n",
              "  </tbody>\n",
              "</table>\n",
              "<p>735935 rows × 17 columns</p>\n",
              "</div>"
            ],
            "text/plain": [
              "        Unnamed: 0  ...                             preprocessed2\n",
              "0                0  ...          take pant tell pussi fair madam \n",
              "1                1  ...         cultur hous like krishnatripathi \n",
              "2                2  ...                thi scoundrel work kutiya \n",
              "3                3  ...                       good night di nice \n",
              "4                4  ...                              chinal rand \n",
              "...            ...  ...                                       ...\n",
              "735930      735930  ...                                bala pura \n",
              "735931      735931  ...                                     ilov \n",
              "735932      735932  ...                                   abisek \n",
              "735933      735933  ...  nycvedeondesaralovelysmilesosweetallook \n",
              "735934      735934  ...                          nice video like \n",
              "\n",
              "[735935 rows x 17 columns]"
            ]
          },
          "metadata": {},
          "execution_count": 5
        }
      ]
    },
    {
      "cell_type": "code",
      "metadata": {
        "id": "0rNnWE4TwaeG"
      },
      "source": [
        "import pandas as panda\n",
        "from nltk.tokenize import word_tokenize\n",
        "from nltk.corpus import stopwords\n",
        "from nltk.stem.porter import *\n",
        "import string\n",
        "import nltk\n",
        "from sklearn.feature_extraction.text import CountVectorizer\n",
        "from sklearn.feature_extraction.text import TfidfVectorizer\n",
        "from sklearn.metrics import f1_score\n",
        "from sklearn.feature_selection import SelectFromModel\n",
        "from sklearn.metrics import classification_report\n",
        "from sklearn.naive_bayes import GaussianNB\n",
        "import numpy as np\n",
        "from nltk.sentiment.vader import SentimentIntensityAnalyzer as VS\n",
        "import warnings\n",
        "warnings.simplefilter(action='ignore', category=FutureWarning)\n",
        "%matplotlib inline\n",
        "import matplotlib.pyplot as plt\n",
        "import time # for timing\n",
        "import seaborn as sns\n",
        "from gensim.models import KeyedVectors # for pre-trained embedding \n",
        "\n",
        "\n",
        "# metrics for model evaluation\n",
        "from sklearn.metrics import accuracy_score\n",
        "from sklearn.metrics import classification_report\n",
        "from sklearn.metrics import confusion_matrix\n",
        "\n",
        "# sklearn classifiers\n",
        "from sklearn.tree import DecisionTreeClassifier\n",
        "from sklearn.ensemble import RandomForestClassifier \n",
        "from sklearn.svm import SVC\n",
        "from sklearn.neighbors import KNeighborsClassifier\n",
        "from sklearn.linear_model import LogisticRegression\n",
        "from sklearn.model_selection import train_test_split, cross_val_score, GridSearchCV\n",
        "from imblearn.over_sampling import SMOTE\n",
        "from imblearn.under_sampling import TomekLinks\n",
        "from collections import Counter\n",
        "from sklearn import metrics, utils, model_selection, svm\n",
        "from sklearn.naive_bayes import MultinomialNB\n",
        "from sklearn.svm import LinearSVC\n",
        "from sklearn.metrics import precision_score, recall_score, f1_score, confusion_matrix, plot_confusion_matrix, classification_report\n",
        "\n",
        "import tensorflow as tf # for neural networks"
      ],
      "execution_count": null,
      "outputs": []
    },
    {
      "cell_type": "markdown",
      "metadata": {
        "id": "am7swqnNE1wV"
      },
      "source": [
        "#**Tfidf Vectorization**"
      ]
    },
    {
      "cell_type": "code",
      "metadata": {
        "colab": {
          "base_uri": "https://localhost:8080/"
        },
        "id": "HxcrP_1yskmA",
        "outputId": "bbd2288e-ccf2-4fb8-b535-e1171751cda1"
      },
      "source": [
        "#TF-IDF Features-F1\n",
        "# https://scikit-learn.org/stable/modules/generated/sklearn.feature_extraction.text.TfidfVectorizer.html\n",
        "tfidf_vectorizer = TfidfVectorizer(ngram_range=(1, 2),max_df=0.75, min_df=5, max_features=10000)\n",
        "\n",
        "# TF-IDF feature matrix\n",
        "tfidf = tfidf_vectorizer.fit_transform(df['preprocessed2'] )\n",
        "tfidf\n"
      ],
      "execution_count": null,
      "outputs": [
        {
          "output_type": "execute_result",
          "data": {
            "text/plain": [
              "<735935x10000 sparse matrix of type '<class 'numpy.float64'>'\n",
              "\twith 3177392 stored elements in Compressed Sparse Row format>"
            ]
          },
          "metadata": {},
          "execution_count": 31
        }
      ]
    },
    {
      "cell_type": "markdown",
      "metadata": {
        "id": "nN2lbOwCE_CA"
      },
      "source": [
        "#**Logistic Regression**"
      ]
    },
    {
      "cell_type": "code",
      "metadata": {
        "colab": {
          "base_uri": "https://localhost:8080/"
        },
        "id": "YgQrKXj-rjV3",
        "outputId": "762ba32a-ec6c-4195-de11-699ae5edc3aa"
      },
      "source": [
        "X = tfidf\n",
        "y = df['label'].astype(int)\n",
        "X_train_tfidf, X_test_tfidf, y_train, y_test = train_test_split(X, y, random_state=42, test_size=0.2)\n",
        "model = LogisticRegression(max_iter=1000).fit(X_train_tfidf,y_train)\n",
        "y_preds = model.predict(X_test_tfidf)\n",
        "report = classification_report( y_test, y_preds )\n",
        "print(report)\n",
        "acc=accuracy_score(y_test,y_preds)\n",
        "print(\"Logistic Regression, Accuracy Score:\" , acc)\n"
      ],
      "execution_count": null,
      "outputs": [
        {
          "output_type": "stream",
          "name": "stdout",
          "text": [
            "              precision    recall  f1-score   support\n",
            "\n",
            "           0       0.92      0.96      0.94    108561\n",
            "           1       0.88      0.77      0.82     38626\n",
            "\n",
            "    accuracy                           0.91    147187\n",
            "   macro avg       0.90      0.87      0.88    147187\n",
            "weighted avg       0.91      0.91      0.91    147187\n",
            "\n",
            "Logistic Regression, Accuracy Score: 0.912254478996107\n"
          ]
        }
      ]
    },
    {
      "cell_type": "code",
      "metadata": {
        "colab": {
          "base_uri": "https://localhost:8080/"
        },
        "id": "mrSuOTtrOg1I",
        "outputId": "7a938fd6-5bdd-431c-ba32-03e30877991f"
      },
      "source": [
        "from sklearn.metrics import confusion_matrix\n",
        "confusion_matrix = confusion_matrix(y_test,y_preds)\n",
        "confusion_matrix"
      ],
      "execution_count": null,
      "outputs": [
        {
          "output_type": "execute_result",
          "data": {
            "text/plain": [
              "array([[104643,   3918],\n",
              "       [  8997,  29629]])"
            ]
          },
          "metadata": {},
          "execution_count": 20
        }
      ]
    },
    {
      "cell_type": "code",
      "metadata": {
        "colab": {
          "base_uri": "https://localhost:8080/",
          "height": 343
        },
        "id": "ZkGXLn9_O28U",
        "outputId": "a1de6e31-7c6e-4af6-ffd4-6f5bdc0528cd"
      },
      "source": [
        "class_names=[0,1] # name  of classes\n",
        "fig, ax = plt.subplots()\n",
        "tick_marks = np.arange(len(class_names))\n",
        "plt.xticks(tick_marks, class_names)\n",
        "plt.yticks(tick_marks, class_names)\n",
        "# create heatmap\n",
        "sns.heatmap(pd.DataFrame(confusion_matrix), annot=True, cmap=\"YlGnBu\" ,fmt='g')\n",
        "ax.xaxis.set_label_position(\"top\")\n",
        "plt.tight_layout()\n",
        "plt.title('Confusion matrix Logistic Regression', y=1.1)\n",
        "plt.ylabel('Actual label')\n",
        "plt.xlabel('Predicted label')"
      ],
      "execution_count": null,
      "outputs": [
        {
          "output_type": "execute_result",
          "data": {
            "text/plain": [
              "Text(0.5, 257.44, 'Predicted label')"
            ]
          },
          "metadata": {},
          "execution_count": 21
        },
        {
          "output_type": "display_data",
          "data": {
            "image/png": "[encoded data removed]",
            "text/plain": [
              "<Figure size 432x288 with 2 Axes>"
            ]
          },
          "metadata": {
            "needs_background": "light"
          }
        }
      ]
    },
    {
      "cell_type": "markdown",
      "metadata": {
        "id": "35OIFm88FNO9"
      },
      "source": [
        "#**Naive Bayes**"
      ]
    },
    {
      "cell_type": "code",
      "metadata": {
        "id": "OeGzITEc2xSW"
      },
      "source": [
        "baseline_bayes = MultinomialNB(alpha = .01)\n"
      ],
      "execution_count": null,
      "outputs": []
    },
    {
      "cell_type": "code",
      "metadata": {
        "colab": {
          "base_uri": "https://localhost:8080/"
        },
        "id": "L6yTDFh923YE",
        "outputId": "cd1e646e-57e8-4bd6-f0b7-ae7f94fe59ed"
      },
      "source": [
        "%%time\n",
        "baseline_bayes.fit(X_train_tfidf, y_train)\n",
        "bayes_test_preds = baseline_bayes.predict(X_test_tfidf)\n"
      ],
      "execution_count": null,
      "outputs": [
        {
          "output_type": "stream",
          "name": "stdout",
          "text": [
            "CPU times: user 155 ms, sys: 3.53 ms, total: 159 ms\n",
            "Wall time: 160 ms\n"
          ]
        }
      ]
    },
    {
      "cell_type": "code",
      "metadata": {
        "id": "2eS_buyz29jg"
      },
      "source": [
        "bayes_precision = precision_score(y_test, bayes_test_preds)\n",
        "bayes_recall = recall_score(y_test, bayes_test_preds)\n",
        "bayes_f1_score = f1_score(y_test, bayes_test_preds)\n",
        "bayes_f1_weighted = f1_score(y_test, bayes_test_preds, average='weighted')\n",
        "\n",
        "# printing scores\n",
        "# helpers.evaluation(bayes_precision, bayes_recall, bayes_f1_score, bayes_f1_weighted)\n"
      ],
      "execution_count": null,
      "outputs": []
    },
    {
      "cell_type": "code",
      "metadata": {
        "id": "xArIoKaB3Ih2"
      },
      "source": [
        "def evaluation(precision, recall, f1_score, f1_weighted):\n",
        "    \"\"\"prints out evaluation metrics for a model\"\"\"\n",
        "    print('Testing Set Evaluation Metrics:')\n",
        "    print('Precision: {:.4}'.format(precision))\n",
        "    print('Recall: {:.4}'.format(recall))\n",
        "    print('F1 Score: {:.4}'.format(f1_score))\n",
        "    print('Weighted F1 Score: {:.4}'.format(f1_weighted))"
      ],
      "execution_count": null,
      "outputs": []
    },
    {
      "cell_type": "code",
      "metadata": {
        "id": "fKR-1S_bNY8Y"
      },
      "source": [
        "bayesacc=accuracy_score(y_test,bayes_test_preds)\n"
      ],
      "execution_count": null,
      "outputs": []
    },
    {
      "cell_type": "code",
      "metadata": {
        "colab": {
          "base_uri": "https://localhost:8080/"
        },
        "id": "UJ9sopVj3aRN",
        "outputId": "ac3a5de7-f8e5-48dc-a46b-608d3692c1e3"
      },
      "source": [
        "evaluation(bayes_precision, bayes_recall, bayes_f1_score, bayes_f1_weighted)"
      ],
      "execution_count": null,
      "outputs": [
        {
          "output_type": "stream",
          "name": "stdout",
          "text": [
            "Testing Set Evaluation Metrics:\n",
            "Precision: 0.7858\n",
            "Recall: 0.795\n",
            "F1 Score: 0.7904\n",
            "Weighted F1 Score: 0.8895\n"
          ]
        }
      ]
    },
    {
      "cell_type": "code",
      "metadata": {
        "colab": {
          "base_uri": "https://localhost:8080/",
          "height": 295
        },
        "id": "6gs5SLHBMOpr",
        "outputId": "a7e5bd86-51fe-409c-f72f-667a0f3aa392"
      },
      "source": [
        "from sklearn.metrics import precision_recall_curve \n",
        "\n",
        "precision, recall, thresholds = precision_recall_curve(y_test, bayes_test_preds)\n",
        "\n",
        "# create plot\n",
        "plt.plot(precision, recall, label='Precision-recall curve Naive Bayes')\n",
        "_ = plt.xlabel('Precision')\n",
        "_ = plt.ylabel('Recall')\n",
        "_ = plt.title('Precision-recall curve Naive Bayes')\n",
        "_ = plt.xlim([0.735, 1])\n",
        "_ = plt.ylim([0, 1.02])\n",
        "_ = plt.legend(loc=\"lower left\")\n",
        "\n",
        "# save figure\n",
        "plt.savefig('precision_recall.png', dpi=200)"
      ],
      "execution_count": null,
      "outputs": [
        {
          "output_type": "display_data",
          "data": {
            "image/png": "[encoded data removed]",
            "text/plain": [
              "<Figure size 432x288 with 1 Axes>"
            ]
          },
          "metadata": {
            "needs_background": "light"
          }
        }
      ]
    },
    {
      "cell_type": "markdown",
      "metadata": {
        "id": "KbhoI2NkFTTS"
      },
      "source": [
        "#**SVM**"
      ]
    },
    {
      "cell_type": "code",
      "metadata": {
        "colab": {
          "base_uri": "https://localhost:8080/"
        },
        "id": "qvQpHdT-z93k",
        "outputId": "6c9361d7-1199-4c45-cc72-31bdabfae644"
      },
      "source": [
        "support =LinearSVC(random_state=20)\n",
        "support.fit(X_train_tfidf,y_train)\n",
        "y_preds = support.predict(X_test_tfidf)\n",
        "acc3=accuracy_score(y_test,y_preds)\n",
        "report = classification_report( y_test, y_preds )\n",
        "print(report)\n",
        "print(\"SVM, Accuracy Score:\" , acc3)\n"
      ],
      "execution_count": null,
      "outputs": [
        {
          "output_type": "stream",
          "name": "stdout",
          "text": [
            "              precision    recall  f1-score   support\n",
            "\n",
            "           0       0.92      0.96      0.94    108561\n",
            "           1       0.88      0.77      0.82     38626\n",
            "\n",
            "    accuracy                           0.91    147187\n",
            "   macro avg       0.90      0.87      0.88    147187\n",
            "weighted avg       0.91      0.91      0.91    147187\n",
            "\n",
            "SVM, Accuracy Score: 0.9127980052586165\n"
          ]
        }
      ]
    },
    {
      "cell_type": "code",
      "metadata": {
        "colab": {
          "base_uri": "https://localhost:8080/"
        },
        "id": "cvyNDc9DNJAm",
        "outputId": "6fa0ccab-59de-4bd2-efbf-0091f63d8b76"
      },
      "source": [
        "confusion_matrix_SVM = confusion_matrix(y_test,y_preds)\n",
        "confusion_matrix_SVM"
      ],
      "execution_count": null,
      "outputs": [
        {
          "output_type": "execute_result",
          "data": {
            "text/plain": [
              "array([[104533,   4028],\n",
              "       [  8807,  29819]])"
            ]
          },
          "metadata": {},
          "execution_count": 36
        }
      ]
    },
    {
      "cell_type": "code",
      "metadata": {
        "colab": {
          "base_uri": "https://localhost:8080/",
          "height": 343
        },
        "id": "tO3-EiiyNw8F",
        "outputId": "bf60256e-afe4-4be9-b98c-dc2dc435263d"
      },
      "source": [
        "class_names=[0,1] # name  of classes\n",
        "fig, ax = plt.subplots()\n",
        "tick_marks = np.arange(len(class_names))\n",
        "plt.xticks(tick_marks, class_names)\n",
        "plt.yticks(tick_marks, class_names)\n",
        "# create heatmap\n",
        "sns.heatmap(pd.DataFrame(confusion_matrix_SVM), annot=True, cmap=\"YlGnBu\" ,fmt='g')\n",
        "ax.xaxis.set_label_position(\"top\")\n",
        "plt.tight_layout()\n",
        "plt.title('Confusion matrix SVM', y=1.1)\n",
        "plt.ylabel('Actual label')\n",
        "plt.xlabel('Predicted label')"
      ],
      "execution_count": null,
      "outputs": [
        {
          "output_type": "execute_result",
          "data": {
            "text/plain": [
              "Text(0.5, 257.44, 'Predicted label')"
            ]
          },
          "metadata": {},
          "execution_count": 37
        },
        {
          "output_type": "display_data",
          "data": {
            "image/png": "[encoded data removed]",
            "text/plain": [
              "<Figure size 432x288 with 2 Axes>"
            ]
          },
          "metadata": {
            "needs_background": "light"
          }
        }
      ]
    },
    {
      "cell_type": "markdown",
      "metadata": {
        "id": "0ed1evFKFet6"
      },
      "source": [
        "#**KNN**"
      ]
    },
    {
      "cell_type": "code",
      "metadata": {
        "colab": {
          "base_uri": "https://localhost:8080/"
        },
        "id": "z45zrRSQitUy",
        "outputId": "caddfd46-2f59-485b-e6da-d3d703e885e1"
      },
      "source": [
        "def evaluateModel(y_test, predicted):\n",
        "    \"\"\"evaluates trained model\"\"\"\n",
        "    acc = accuracy_score(y_test, predicted) # accuracy\n",
        "    print(\"\\nAccuracy with validation data: %4.2f%%\" %(100*acc))\n",
        "    print(\"\\nClassification report:\\n\")\n",
        "    print(classification_report(y_test, predicted)) \n",
        "    cm = confusion_matrix(y_test, predicted) # confusion_matrix\n",
        "    print(\"\\nConfusion matrix:\\n\")\n",
        "    print(pd.DataFrame(cm))\n",
        "    return acc\n",
        "\n",
        "models = {} # dictionary of Scikit-Learn classifiers with non-default parameters \n",
        "models['KNN'] = KNeighborsClassifier(n_neighbors=3)\n",
        "\n",
        "result = []\n",
        "for m in [m for m in models]:\n",
        "    modelKNN = models[m] # model to use\n",
        "    print(\"\\nTraining classifier %s:\\n%s\" %(m, modelKNN))\n",
        "    st = time.time() # start time for training and testing\n",
        "    modelKNN.fit(X_train_tfidf, y_train) # train model\n",
        "    predictedKNN = modelKNN.predict(X_test_tfidf) # predict test labels with trained modelc\n",
        "    t = time.time() - st # time to train and test model\n",
        "    print(\"Time to train and test classifier: %4.2f seconds\" %(t))\n",
        "    accKNN = evaluateModel(y_test, predictedKNN) # evaluate prediction accuracy\n",
        "    result.append([m, accKNN]) # record results\n",
        "    print(60*'=') # end training and testing for model"
      ],
      "execution_count": null,
      "outputs": [
        {
          "output_type": "stream",
          "name": "stdout",
          "text": [
            "\n",
            "Training classifier KNN:\n",
            "KNeighborsClassifier(n_neighbors=3)\n",
            "Time to train and test classifier: 1301.32 seconds\n",
            "\n",
            "Accuracy with validation data: 84.29%\n",
            "\n",
            "Classification report:\n",
            "\n",
            "              precision    recall  f1-score   support\n",
            "\n",
            "           0       0.85      0.96      0.90    108561\n",
            "           1       0.82      0.52      0.63     38626\n",
            "\n",
            "    accuracy                           0.84    147187\n",
            "   macro avg       0.83      0.74      0.77    147187\n",
            "weighted avg       0.84      0.84      0.83    147187\n",
            "\n",
            "\n",
            "Confusion matrix:\n",
            "\n",
            "        0      1\n",
            "0  104164   4397\n",
            "1   18733  19893\n",
            "============================================================\n"
          ]
        }
      ]
    },
    {
      "cell_type": "code",
      "metadata": {
        "id": "_qhX_p9KSwVw"
      },
      "source": [
        "cmknn = confusion_matrix(y_test, predictedKNN)"
      ],
      "execution_count": null,
      "outputs": []
    },
    {
      "cell_type": "code",
      "metadata": {
        "colab": {
          "base_uri": "https://localhost:8080/",
          "height": 345
        },
        "id": "ms_VoQVgSvGV",
        "outputId": "f86e0e47-15c9-4ccd-b47e-e6a7bb83a5c1"
      },
      "source": [
        "\n",
        "class_names=[0,1] # name  of classes\n",
        "fig, ax = plt.subplots()\n",
        "tick_marks = np.arange(len(class_names))\n",
        "plt.xticks(tick_marks, class_names)\n",
        "plt.yticks(tick_marks, class_names)\n",
        "# create heatmap\n",
        "sns.heatmap(pd.DataFrame(cmknn), annot=True, cmap=\"YlGnBu\" ,fmt='g')\n",
        "ax.xaxis.set_label_position(\"top\")\n",
        "plt.tight_layout()\n",
        "plt.title('Confusion matrix KNN', y=1.1)\n",
        "plt.ylabel('Actual label')\n",
        "plt.xlabel('Predicted label')"
      ],
      "execution_count": null,
      "outputs": [
        {
          "output_type": "execute_result",
          "data": {
            "text/plain": [
              "Text(0.5, 257.44, 'Predicted label')"
            ]
          },
          "metadata": {},
          "execution_count": 168
        },
        {
          "output_type": "display_data",
          "data": {
            "image/png": "[encoded data removed]",
            "text/plain": [
              "<Figure size 432x288 with 2 Axes>"
            ]
          },
          "metadata": {
            "needs_background": "light"
          }
        }
      ]
    },
    {
      "cell_type": "code",
      "metadata": {
        "id": "quHbjPilM1IE"
      },
      "source": [
        "KNNacc=accuracy_score(y_test,predicted)"
      ],
      "execution_count": null,
      "outputs": []
    },
    {
      "cell_type": "code",
      "metadata": {
        "id": "tTtHrkSPLVz_"
      },
      "source": [
        "from sklearn.metrics import roc_curve, auc\n",
        "fpr = dict()\n",
        "tpr = dict()\n",
        "roc_auc = dict()\n",
        "for i in range(1):\n",
        "    fpr[i], tpr[i], _ = roc_curve(y_test, predicted)\n",
        "    roc_auc[i] = auc(fpr[i], tpr[i])"
      ],
      "execution_count": null,
      "outputs": []
    },
    {
      "cell_type": "code",
      "metadata": {
        "colab": {
          "base_uri": "https://localhost:8080/",
          "height": 296
        },
        "id": "FWXrpbPcLvJq",
        "outputId": "48a42f7e-5bcb-4b02-d8b7-289b476da3da"
      },
      "source": [
        "\n",
        "plt.figure()\n",
        "plt.plot(fpr[0], tpr[0], label='ROC curve (area = %0.2f)' % roc_auc[0])\n",
        "plt.plot([0, 1], [0, 1], 'k--')\n",
        "plt.xlim([0.0, 1.0])\n",
        "plt.ylim([0.0, 1.05])\n",
        "plt.xlabel('False Positive Rate')\n",
        "plt.ylabel('True Positive Rate')\n",
        "plt.title('Receiver operating characteristic KNN')\n",
        "plt.legend(loc=\"lower right\")\n",
        "plt.show()"
      ],
      "execution_count": null,
      "outputs": [
        {
          "output_type": "display_data",
          "data": {
            "image/png": "[encoded data removed]",
            "text/plain": [
              "<Figure size 432x288 with 1 Axes>"
            ]
          },
          "metadata": {
            "needs_background": "light"
          }
        }
      ]
    },
    {
      "cell_type": "markdown",
      "metadata": {
        "id": "PrU7iDBXFzFr"
      },
      "source": [
        "#**Random Forest**"
      ]
    },
    {
      "cell_type": "code",
      "metadata": {
        "colab": {
          "base_uri": "https://localhost:8080/"
        },
        "id": "FT7O9PBh5MR0",
        "outputId": "42b6789e-0fbd-441f-aa74-5bc9f8f471cf"
      },
      "source": [
        "def evaluateModel(y_test, predicted):\n",
        "    \"\"\"evaluates trained model\"\"\"\n",
        "    acc = accuracy_score(y_test, predicted) # accuracy\n",
        "    print(\"\\nAccuracy with validation data: %4.2f%%\" %(100*acc))\n",
        "    print(\"\\nClassification report:\\n\")\n",
        "    print(classification_report(y_test, predicted)) \n",
        "    cm = confusion_matrix(y_test, predicted) # confusion_matrix\n",
        "    print(\"\\nConfusion matrix:\\n\")\n",
        "    print(pd.DataFrame(cm))\n",
        "    return acc\n",
        "\n",
        "models = {} # dictionary of Scikit-Learn classifiers with non-default parameters \n",
        "models['RF'] = RandomForestClassifier(n_estimators=100)\n",
        "\n",
        "result = []\n",
        "for m in [m for m in models]:\n",
        "    modelRF = models[m] # model to use\n",
        "    print(\"\\nTraining classifier %s:\\n%s\" %(m, modelRF))\n",
        "    st = time.time() # start time for training and testing\n",
        "    modelRF.fit(X_train_tfidf, y_train) # train model\n",
        "    predictedRF = modelRF.predict(X_test_tfidf) # predict test labels with trained modelc\n",
        "    t = time.time() - st # time to train and test model\n",
        "    print(\"Time to train and test classifier: %4.2f seconds\" %(t))\n",
        "    accRF = evaluateModel(y_test, predictedRF) # evaluate prediction accuracy\n",
        "    result.append([m, accRF]) # record results\n",
        "    print(60*'=') # end training and testing for model"
      ],
      "execution_count": null,
      "outputs": [
        {
          "output_type": "stream",
          "name": "stdout",
          "text": [
            "\n",
            "Training classifier RF:\n",
            "RandomForestClassifier()\n",
            "Time to train and test classifier: 5163.84 seconds\n",
            "\n",
            "Accuracy with validation data: 90.46%\n",
            "\n",
            "Classification report:\n",
            "\n",
            "              precision    recall  f1-score   support\n",
            "\n",
            "           0       0.92      0.95      0.94    108561\n",
            "           1       0.85      0.78      0.81     38626\n",
            "\n",
            "    accuracy                           0.90    147187\n",
            "   macro avg       0.88      0.86      0.87    147187\n",
            "weighted avg       0.90      0.90      0.90    147187\n",
            "\n",
            "\n",
            "Confusion matrix:\n",
            "\n",
            "        0      1\n",
            "0  103079   5482\n",
            "1    8557  30069\n",
            "============================================================\n"
          ]
        }
      ]
    },
    {
      "cell_type": "code",
      "metadata": {
        "id": "YJUyo4S3SZWT"
      },
      "source": [
        "cmrf = confusion_matrix(y_test, predictedRF)"
      ],
      "execution_count": null,
      "outputs": []
    },
    {
      "cell_type": "code",
      "metadata": {
        "colab": {
          "base_uri": "https://localhost:8080/",
          "height": 345
        },
        "id": "N3HyYq3YSkN6",
        "outputId": "a26bf36d-0a70-468c-faa2-9bdc914b3fb9"
      },
      "source": [
        "\n",
        "class_names=[0,1] # name  of classes\n",
        "fig, ax = plt.subplots()\n",
        "tick_marks = np.arange(len(class_names))\n",
        "plt.xticks(tick_marks, class_names)\n",
        "plt.yticks(tick_marks, class_names)\n",
        "# create heatmap\n",
        "sns.heatmap(pd.DataFrame(cmrf), annot=True, cmap=\"YlGnBu\" ,fmt='g')\n",
        "ax.xaxis.set_label_position(\"top\")\n",
        "plt.tight_layout()\n",
        "plt.title('Confusion matrix Random Forest', y=1.1)\n",
        "plt.ylabel('Actual label')\n",
        "plt.xlabel('Predicted label')"
      ],
      "execution_count": null,
      "outputs": [
        {
          "output_type": "execute_result",
          "data": {
            "text/plain": [
              "Text(0.5, 257.44, 'Predicted label')"
            ]
          },
          "metadata": {},
          "execution_count": 166
        },
        {
          "output_type": "display_data",
          "data": {
            "image/png": "[encoded data removed]",
            "text/plain": [
              "<Figure size 432x288 with 2 Axes>"
            ]
          },
          "metadata": {
            "needs_background": "light"
          }
        }
      ]
    },
    {
      "cell_type": "markdown",
      "metadata": {
        "id": "xMhXUz8PGAEB"
      },
      "source": [
        "#**Decision Tree**"
      ]
    },
    {
      "cell_type": "code",
      "metadata": {
        "colab": {
          "base_uri": "https://localhost:8080/"
        },
        "id": "fYYZzsctW2y0",
        "outputId": "9a7983c5-0a39-4dd4-9312-72875ed353e2"
      },
      "source": [
        "def evaluateModel(y_test, predicted):\n",
        "    \"\"\"evaluates trained model\"\"\"\n",
        "    acc = accuracy_score(y_test, predicted) # accuracy\n",
        "    print(\"\\nAccuracy with validation data: %4.2f%%\" %(100*acc))\n",
        "    print(\"\\nClassification report:\\n\")\n",
        "    print(classification_report(y_test, predicted)) \n",
        "    cm = confusion_matrix(y_test, predicted) # confusion_matrix\n",
        "    print(\"\\nConfusion matrix:\\n\")\n",
        "    print(pd.DataFrame(cm))\n",
        "    return acc\n",
        "\n",
        "models = {} # dictionary of Scikit-Learn classifiers with non-default parameters \n",
        "models['DT'] = DecisionTreeClassifier()\n",
        "\n",
        "result = []\n",
        "for m in [m for m in models]:\n",
        "    model = models[m] # model to use\n",
        "    print(\"\\nTraining classifier %s:\\n%s\" %(m, model))\n",
        "    st = time.time() # start time for training and testing\n",
        "    model.fit(X_train_tfidf, y_train) # train model\n",
        "    predicted = model.predict(X_test_tfidf) # predict test labels with trained modelc\n",
        "    t = time.time() - st # time to train and test model\n",
        "    print(\"Time to train and test classifier: %4.2f seconds\" %(t))\n",
        "    accdec = evaluateModel(y_test, predicted) # evaluate prediction accuracy\n",
        "    result.append([m, acc]) # record results\n",
        "    print(60*'=') # end training and testing for model"
      ],
      "execution_count": null,
      "outputs": [
        {
          "output_type": "stream",
          "name": "stdout",
          "text": [
            "\n",
            "Training classifier DT:\n",
            "DecisionTreeClassifier()\n",
            "Time to train and test classifier: 458.36 seconds\n",
            "\n",
            "Accuracy with validation data: 88.74%\n",
            "\n",
            "Classification report:\n",
            "\n",
            "              precision    recall  f1-score   support\n",
            "\n",
            "           0       0.91      0.94      0.92    108561\n",
            "           1       0.81      0.74      0.78     38626\n",
            "\n",
            "    accuracy                           0.89    147187\n",
            "   macro avg       0.86      0.84      0.85    147187\n",
            "weighted avg       0.89      0.89      0.89    147187\n",
            "\n",
            "\n",
            "Confusion matrix:\n",
            "\n",
            "        0      1\n",
            "0  102037   6524\n",
            "1   10055  28571\n",
            "============================================================\n"
          ]
        }
      ]
    },
    {
      "cell_type": "code",
      "metadata": {
        "id": "EnUDMyf2hdwO"
      },
      "source": [
        "cm = confusion_matrix(y_test, predicted)"
      ],
      "execution_count": null,
      "outputs": []
    },
    {
      "cell_type": "code",
      "metadata": {
        "colab": {
          "base_uri": "https://localhost:8080/",
          "height": 345
        },
        "id": "FoJa9ggSgAvK",
        "outputId": "3924f6d1-b7a2-40c0-b963-441f057a93c1"
      },
      "source": [
        "\n",
        "class_names=[0,1] # name  of classes\n",
        "fig, ax = plt.subplots()\n",
        "tick_marks = np.arange(len(class_names))\n",
        "plt.xticks(tick_marks, class_names)\n",
        "plt.yticks(tick_marks, class_names)\n",
        "# create heatmap\n",
        "sns.heatmap(pd.DataFrame(cm), annot=True, cmap=\"YlGnBu\" ,fmt='g')\n",
        "ax.xaxis.set_label_position(\"top\")\n",
        "plt.tight_layout()\n",
        "plt.title('Confusion matrix Decision Tree', y=1.1)\n",
        "plt.ylabel('Actual label')\n",
        "plt.xlabel('Predicted label')"
      ],
      "execution_count": null,
      "outputs": [
        {
          "output_type": "execute_result",
          "data": {
            "text/plain": [
              "Text(0.5, 257.44, 'Predicted label')"
            ]
          },
          "metadata": {},
          "execution_count": 128
        },
        {
          "output_type": "display_data",
          "data": {
            "image/png": "[encoded data removed]",
            "text/plain": [
              "<Figure size 432x288 with 2 Axes>"
            ]
          },
          "metadata": {
            "needs_background": "light"
          }
        }
      ]
    },
    {
      "cell_type": "markdown",
      "metadata": {
        "id": "i9HtrDpMGmEi"
      },
      "source": [
        "#**Comparison of various models**"
      ]
    },
    {
      "cell_type": "code",
      "metadata": {
        "colab": {
          "base_uri": "https://localhost:8080/",
          "height": 279
        },
        "id": "2zsNRxC_ML2q",
        "outputId": "46fc2a95-25a9-4a1e-ffe3-98efb883f957"
      },
      "source": [
        "plt.figure(figsize=(8, 4))  \n",
        "objects = ('Logistic', 'SVM','KNN','Bayes','DecisionTree','RandomForest')\n",
        "y_pos = np.arange(len(objects))\n",
        "performance = [acc,acc3,KNNacc,bayesacc,accdec,accRF]\n",
        "plt.bar(y_pos, performance, align='center', alpha=0.5)\n",
        "plt.xticks(y_pos, objects)\n",
        "plt.ylabel('Accuracy')\n",
        "plt.title('Algorithm Comparision')\n",
        "plt.show()\n"
      ],
      "execution_count": null,
      "outputs": [
        {
          "output_type": "display_data",
          "data": {
            "image/png": "[encoded data removed]",
            "text/plain": [
              "<Figure size 576x288 with 1 Axes>"
            ]
          },
          "metadata": {
            "needs_background": "light"
          }
        }
      ]
    }
  ]
}